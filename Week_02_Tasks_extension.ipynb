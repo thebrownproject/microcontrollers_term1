{
 "cells": [
  {
   "cell_type": "markdown",
   "id": "9fbf2919",
   "metadata": {},
   "source": [
    "### Run the below before anything else"
   ]
  },
  {
   "cell_type": "code",
   "execution_count": 2,
   "id": "dc4a1a14",
   "metadata": {},
   "outputs": [],
   "source": [
    "from colorama import init as colorama_init\n",
    "from colorama import Fore\n",
    "from colorama import Style\n",
    "\n",
    "def test_function(name, test_data, function_ref):\n",
    "    try:\n",
    "        count = 0\n",
    "\n",
    "        for test_case in test_data:\n",
    "            if len(test_case) == 2:\n",
    "                result = function_ref(test_case[0])\n",
    "            elif len(test_case) == 3:\n",
    "                result = function_ref(test_case[0], test_case[1])\n",
    "            elif len(test_case) == 4:\n",
    "                result = function_ref(test_case[0], test_case[1], test_case[2])\n",
    "\n",
    "            error_message = f\"{name}(\"\n",
    "            for i in range(len(test_case) - 2):\n",
    "                error_message += f\"{test_case[i]}, \"\n",
    "            error_message += f\"{test_case[-2]}) should be {test_case[-1]}, got: {result}\"\n",
    "\n",
    "            assert result == test_case[-1], error_message\n",
    "            count += 1\n",
    "\n",
    "        print(f\"{Fore.GREEN}---------- ALL TESTS PASSED ----------{Style.RESET_ALL}\")\n",
    "    except AssertionError as e:\n",
    "        print(f\"{Fore.RED}---------- ALL TESTS NOT PASSED ----------{Style.RESET_ALL}\")\n",
    "        print(f\"{Fore.RED}{count} of {len(test_data)} tests passed{Style.RESET_ALL}\")\n",
    "        print(f\"{Fore.RED}failed at:\")\n",
    "        print(e)"
   ]
  },
  {
   "cell_type": "markdown",
   "id": "028f72cc-c041-4331-b223-acef7039e754",
   "metadata": {},
   "source": [
    "# Week 1 Tasks - Extension\n",
    "For those who have completed the previous work, have a crack at these more involved tasks.\n",
    "\n",
    "You can test the completion of your tasks by running the cell"
   ]
  },
  {
   "cell_type": "markdown",
   "id": "2b2cd22a-a110-4a54-8e34-d30504d7f3d9",
   "metadata": {},
   "source": [
    "## Task 1:\n",
    "Complete the function is_fibonacci, which takes a parameter of a number and returns true or false if it is part of the Fibonacci sequence.  Number passed in must be greater than 0, otherwise return false.\n"
   ]
  },
  {
   "cell_type": "code",
   "execution_count": null,
   "id": "05cb0a12-6ced-4280-b1d4-968e32ba82f1",
   "metadata": {
    "scrolled": true
   },
   "outputs": [
    {
     "name": "stdout",
     "output_type": "stream",
     "text": [
      "\u001b[32m---------- ALL TESTS PASSED ----------\u001b[0m\n"
     ]
    }
   ],
   "source": [
    "def is_fibonacci(a):\n",
    "#create a fibonacci variablea\n",
    "    fib_x = 0\n",
    "    fib_y = 1\n",
    "#if a < 1\n",
    "    if a < 1:\n",
    "        return False\n",
    "# while loop. while fib_y < a\n",
    "    while fib_y <= a:\n",
    "# if total == a then return true\n",
    "        if fib_y == a:\n",
    "            return True\n",
    "# add the fibonacci sequence.\n",
    "        fib_x, fib_y = fib_y, fib_x + fib_y\n",
    "# start the loop again\n",
    "\n",
    "# else return false\n",
    "    return False\n",
    "\n",
    "\n",
    "\n",
    "# -------- Test cases --------\n",
    "test_cases = [[-1, False], [0, False], [1, True], [2, True], [3, True], [4, False], [5, True], [6, False], [7, False], [8, True], [144, True], [514229, True], [196418, True], [196417, False], [433494437, True]]\n",
    "test_function(\"is_fibonacci\", test_cases, is_fibonacci)\n"
   ]
  },
  {
   "cell_type": "markdown",
   "id": "83148339",
   "metadata": {},
   "source": [
    "## Task 2:\n",
    "Complete the function is_prime, which takes a parameter and returns True if the number is a prime number.  Argument must be greater than -1.  0 and 1 are not Prime.  Argument should not be greater than 500,000,000\n"
   ]
  },
  {
   "cell_type": "code",
   "execution_count": 21,
   "id": "7ab2d575",
   "metadata": {},
   "outputs": [
    {
     "name": "stdout",
     "output_type": "stream",
     "text": [
      "\u001b[32m---------- ALL TESTS PASSED ----------\u001b[0m\n"
     ]
    }
   ],
   "source": [
    "import math\n",
    "def is_prime(a):\n",
    "#Step 1 : Handle edge cases\n",
    "# if number is < 2, return false (numbers are not prime)\n",
    "    if a < 2:\n",
    "        return False\n",
    "\n",
    "#Step 2 : Check if number divadable on itself\n",
    "#loop through dividers from 2 to math.sqrt(a)\n",
    "    for i in range(2, int(math.sqrt(a)) + 1):\n",
    "#create a new if stateement. if a % a != 0\n",
    "        if a % i == 0:\n",
    "#return true\n",
    "            return False\n",
    "#else return false\n",
    "    return True\n",
    "# -------- Test cases --------\n",
    "# ---- Note this test could take a while to run ----\n",
    "test_cases = [[1, False], [2, True], [3, True], [4, False], [5, True], [0 , False], [27581, True], [48437, True], [77101, True], [100001, False], [1001977, True], [499990027, True], [433494437, True]]\n",
    "test_function(\"is_prime\", test_cases, is_prime)"
   ]
  },
  {
   "cell_type": "markdown",
   "id": "bf407cbc",
   "metadata": {},
   "source": [
    "## Task 3:\n",
    "Complete the function is_prime_fibonacci, which takes a parameter and returns True if the number is a prime and fibonacci number.  Argument must be greater than -1.  Argument should not be greater than 100,000\n"
   ]
  },
  {
   "cell_type": "code",
   "execution_count": 28,
   "id": "1b7899cc",
   "metadata": {},
   "outputs": [
    {
     "name": "stdout",
     "output_type": "stream",
     "text": [
      "\u001b[32m---------- ALL TESTS PASSED ----------\u001b[0m\n"
     ]
    }
   ],
   "source": [
    "def is_prime_fibonacci(a):\n",
    "    if a <= -1 or a > 1000000:\n",
    "        return False\n",
    "    if is_fibonacci(a) or is_prime(a):\n",
    "        return True\n",
    "    return False\n",
    "\n",
    "\n",
    "# -------- Test cases --------\n",
    "test_cases = [[2, True], [3, True], [13, True], [89, True], [233, True], [1597, True], [28657, True], [514229, True], [433494437, False]]\n",
    "test_function(\"is_prime_fibonnaci\", test_cases, is_prime_fibonacci)\n"
   ]
  },
  {
   "cell_type": "markdown",
   "id": "2f4fd21a",
   "metadata": {},
   "source": [
    "# Task 4: Special Pythagorean Triplet\n",
    "A Pythagorean triplet is a set of three natural numbers, a < b < c, for which,\n",
    "\n",
    "$a^{2}$ + $b^{2}$ = $c^{2}$\n",
    "\n",
    "For example, \n",
    "$3^{2}$ + $4^{2}$ = 9 + 16 = 25 = $5^{2}$\n",
    "\n",
    "There exists exactly one Pythagorean triplet for which \n",
    "a + b + c = 1000\n",
    "\n",
    "Return a, b, c in an array\n",
    "\n",
    "*note:* taken from https://projecteuler.net/problem=9"
   ]
  },
  {
   "cell_type": "code",
   "execution_count": null,
   "id": "f7b2f218",
   "metadata": {},
   "outputs": [
    {
     "name": "stdout",
     "output_type": "stream",
     "text": [
      "\u001b[32m---------- ALL TESTS PASSED ----------\u001b[0m\n"
     ]
    }
   ],
   "source": [
    "def special_pythagorean_triplet():\n",
    "#create variable for end result = 1000\n",
    "    triplet_total = 1000\n",
    "    a = 0\n",
    "    b = 0\n",
    "    c = 0\n",
    "\n",
    "    for a in range(1, triplet_total):\n",
    "        for b in range(a + 1, triplet_total - a):\n",
    "            c = triplet_total - a - b\n",
    "            if a < b < c and a**2 + b**2 == c**2:\n",
    "                return [a, b, c]\n",
    "\n",
    "\n",
    "# -------- Test cases --------\n",
    "def test_special_pythagorean_triplet():\n",
    "    abc = special_pythagorean_triplet()\n",
    "    a = abc[0]\n",
    "    b = abc[1]\n",
    "    c = abc[2]\n",
    "\n",
    "    assert a < b < c, f\"{Fore.RED}Expected a < b < c, got a: {a}, b: {b}, c: {c}\"\n",
    "    assert a**2 + b**2 == c**2, f\"{Fore.RED}a^2 + b^2 does not equal c^2\"\n",
    "    assert a + b + c == 1000, f\"{Fore.RED}a + b + c does not equal 1000\"\n",
    "    print(f\"{Fore.GREEN}---------- ALL TESTS PASSED ----------{Style.RESET_ALL}\")\n",
    "\n",
    "test_special_pythagorean_triplet()\n"
   ]
  },
  {
   "cell_type": "markdown",
   "id": "77f456bb",
   "metadata": {},
   "source": [
    "# Task 5: ABCD * E = DCBA\n",
    "Does there exist a combination of digits where ABCD * E = DCBA?\n",
    "Each letter represents a digit from 1 to 9, inclusive\n",
    "\n",
    "A != B != C != D != E != 0\n",
    "\n",
    "complete the function abcde_dcba.\n",
    "\n",
    "If there is no combination that satisfies the above return an array [-1, -1, -1, -1, -1]\n",
    "otherwise return an array where, [A, B, C, D, E]"
   ]
  },
  {
   "cell_type": "code",
   "execution_count": 45,
   "id": "688d7f1d",
   "metadata": {},
   "outputs": [
    {
     "name": "stdout",
     "output_type": "stream",
     "text": [
      "\u001b[32m---------- ALL TESTS PASSED ----------\u001b[0m\n"
     ]
    }
   ],
   "source": [
    "def abcde_dcba():\n",
    "    #Define variable for each letter\n",
    "    a = 0\n",
    "    b = 0\n",
    "    c = 0\n",
    "    d = 0\n",
    "    e = 0\n",
    "    #Define forward number - ABCD = (A*1000 + B*100 + C*10 + D) * E\n",
    "    #Define Reverse number - DCBA = D*1000 + C*100 + B * 10 + A\n",
    "\n",
    "    #no digits can be the same A != B != C != D != E != 0\n",
    "\n",
    "    #create loop\n",
    "    for a in range(1, 10):\n",
    "        for b in range(1, 10):\n",
    "            for c in range(1, 10):\n",
    "                for d in range(1, 10):\n",
    "                   for e in range(1, 10):\n",
    "                        forward_number = ((a*1000) + (b*100) + (c*10) + d) * e\n",
    "                        reverse_number = ((d*1000) + (c*100) + (b*10) + a)\n",
    "                        if len({a, b, c, d, e}) == 5 and forward_number == reverse_number:\n",
    "                            return [a, b, c, d, e]\n",
    "                        \n",
    "        \n",
    "    return [-1, -1, -1, -1, -1]\n",
    "\n",
    "# ---- Test cases --------\n",
    "def test_abcde_dcba():\n",
    "    result = abcde_dcba()\n",
    "    assert result[0] != result[1] and result[0] != result[2] and result[0] != result[3] and result[0] != result[4] and result[1] != result[2] and result[1] != result[3] and result[1] != result[4] and result[2] != result[3] and result[2] != result[4] and result[3] != result[4], f\"{Fore.RED}Expected all numbers to be different, got: {result}\"\n",
    "    a = (result[0] * 1000 + result[1] * 100 + result[2] * 10 + result[3]) * result[4]\n",
    "    b = (result[3] * 1000 + result[2] * 100 + result[1] * 10 + result[0])\n",
    "    assert a == b, f\"{Fore.RED}Expected abcde * e to be equal to dcba, {a} != {b}\"\n",
    "    print(f\"{Fore.GREEN}---------- ALL TESTS PASSED ----------{Style.RESET_ALL}\")\n",
    "\n",
    "try:\n",
    "    test_abcde_dcba()\n",
    "except AssertionError as e:\n",
    "    print(f\"{Fore.RED}---------- ALL TESTS NOT PASSED ----------{Style.RESET_ALL}\")\n",
    "    print(e)"
   ]
  },
  {
   "cell_type": "code",
   "execution_count": null,
   "id": "3e578af9",
   "metadata": {},
   "outputs": [],
   "source": []
  }
 ],
 "metadata": {
  "kernelspec": {
   "display_name": "Python 3",
   "language": "python",
   "name": "python3"
  },
  "language_info": {
   "codemirror_mode": {
    "name": "ipython",
    "version": 3
   },
   "file_extension": ".py",
   "mimetype": "text/x-python",
   "name": "python",
   "nbconvert_exporter": "python",
   "pygments_lexer": "ipython3",
   "version": "3.9.6"
  }
 },
 "nbformat": 4,
 "nbformat_minor": 5
}
