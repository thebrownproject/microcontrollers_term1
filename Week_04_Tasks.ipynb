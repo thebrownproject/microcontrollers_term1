{
 "cells": [
  {
   "cell_type": "markdown",
   "id": "2b6b0dda",
   "metadata": {},
   "source": [
    "# Week 4 Tasks\n",
    "Connect your Pi Pico or ESP32 to your computer via Jupyter."
   ]
  },
  {
   "cell_type": "markdown",
   "id": "3aab1884",
   "metadata": {},
   "source": [
    "### Configure your serial connection to your microcontroller. Use the following commands to establish a serial connection.\n",
    "#### For Windows\n",
    " %serialconnect to --port=COM3 --baud=115200\n",
    "#### For macOS\n",
    " %serialconnect to --port=/dev/tty.SLAB_USBtoUART --baud=115200"
   ]
  },
  {
   "cell_type": "code",
   "execution_count": 1,
   "id": "51e71a53-d84e-4600-b23b-6bc6c7b2b126",
   "metadata": {},
   "outputs": [
    {
     "name": "stdout",
     "output_type": "stream",
     "text": [
      "\u001b[34mConnecting to --port=/dev/tty.usbserial-0001 --baud=115200 \u001b[0m\n",
      "\u001b[34mReady.\n",
      "\u001b[0m"
     ]
    }
   ],
   "source": [
    " %serialconnect to --port=/dev/tty.usbserial-0001 --baud=115200"
   ]
  },
  {
   "cell_type": "markdown",
   "id": "78e89893",
   "metadata": {},
   "source": [
    "## Task 1: Trafic light Prototype\n",
    "### Scenario\n",
    "A small municipality has hired you to prototype a simple traffic light controller for a quiet residential intersection. The local council wants an easy-to-follow Red-Yellow-Green cycle to regulate car traffic. Your job is to demonstrate a working model of the traffic light using a Raspberry Pi Pico (or any microcontroller) and three LEDs.\n",
    "\n",
    "### Key Requirements\n",
    "##### Traffic Light Cycle\n",
    " 1. Green → Yellow → Red\n",
    " 2. Green ON (allow traffic flow)\n",
    " 3. Yellow ON (brief warning).\n",
    " 4. Red ON (enough time to ensure vehicles fully stop).\n",
    " 5. Cycle repeats continuously, with no overlap of multiple lights.\n",
    "### Hardware Requriment\n",
    " 1. Breadboard\n",
    " 2. Three LED lights (Green, Yellow, Red)\n",
    " 3. Pi Pico or ESP32\n",
    " 4. Jumper wires \n"
   ]
  },
  {
   "cell_type": "code",
   "execution_count": 15,
   "id": "5e7936a8-4ee5-42e0-9712-a3b56376c913",
   "metadata": {},
   "outputs": [
    {
     "name": "stdout",
     "output_type": "stream",
     "text": [
      "..\u001b[34m\n",
      "\n",
      "*** Sending Ctrl-C\n",
      "\n",
      "\u001b[0m"
     ]
    },
    {
     "name": "stderr",
     "output_type": "stream",
     "text": [
      "Traceback (most recent call last):\n",
      "  File \"<stdin>\", line 11, in <module>\n",
      "KeyboardInterrupt: \n"
     ]
    }
   ],
   "source": [
    "from machine import Pin\n",
    "import time\n",
    "# Define lights\n",
    "red = Pin(21, Pin.OUT)\n",
    "yellow = Pin(22, Pin.OUT)\n",
    "green = Pin(23, Pin.OUT)\n",
    "\n",
    "while True:\n",
    "    green.on()\n",
    "    time.sleep(5)\n",
    "    green.off()\n",
    "    \n",
    "    yellow.on()\n",
    "    time.sleep(1)\n",
    "    yellow.off()\n",
    "    \n",
    "    red.on()\n",
    "    time.sleep(5)\n",
    "    red.off()"
   ]
  },
  {
   "cell_type": "markdown",
   "id": "ea1c6b40",
   "metadata": {
    "vscode": {
     "languageId": "plaintext"
    }
   },
   "source": [
    "## Task 2: Basic Traffic light with Pedestrian Button and light\n",
    "### Scenario\n",
    "After successfully demonstrating a basic traffic light prototype, the city council of “Greenfield Heights” has requested an enhanced version to accommodate pedestrians at a busy section of Main Street safely. \n",
    "Specifically, they want:\n",
    "\n",
    "1.\tRetain the existing traffic light cycle (Red, Yellow, Green) for vehicles.\n",
    "2.\tAdd a pedestrian signal with Green (Walk) and Red (Don’t Walk) lights.\n",
    "3.\tInclude a pedestrian button so pedestrians can request to cross.\n",
    "### Hardware Requirement\n",
    " 1. Breadbord\n",
    " 2. Five LED lights (Green, Yellow, Red, for vehicles. Green and Red for Predistrain)\n",
    " 3. Button\n",
    " 4. Pi Pico or ESP32\n",
    " 5. Jumper wires \n"
   ]
  },
  {
   "cell_type": "code",
   "execution_count": 46,
   "id": "e37a3426-3115-485b-92f9-bb18da9f81de",
   "metadata": {},
   "outputs": [
    {
     "name": "stdout",
     "output_type": "stream",
     "text": [
      "..Pedestrian button pressed!\n",
      ".Pedestrian Crossing Activated\n",
      ".....Pedestrian button pressed!\n",
      ".Pedestrian Crossing Activated\n",
      "............................Pedestrian button pressed!\n",
      "Pedestrian Crossing Activated\n",
      ".......................................................................................................................................................................................................................................................................................................................................................................................................................\u001b[34m\n",
      "\n",
      "*** Sending Ctrl-C\n",
      "\n",
      "\u001b[0m"
     ]
    },
    {
     "name": "stderr",
     "output_type": "stream",
     "text": [
      "Traceback (most recent call last):\n",
      "  File \"<stdin>\", line 45, in <module>\n",
      "KeyboardInterrupt: \n"
     ]
    }
   ],
   "source": [
    "from machine import Pin\n",
    "import time\n",
    "\n",
    "traffic_red = Pin(21, Pin.OUT)\n",
    "traffic_yellow = Pin(22, Pin.OUT)\n",
    "traffic_green = Pin(23, Pin.OUT)\n",
    "\n",
    "ped_red = Pin(16, Pin.OUT)\n",
    "ped_green = Pin(17, Pin.OUT)\n",
    "\n",
    "button = Pin(5, Pin.IN, Pin.PULL_UP)\n",
    "\n",
    "toggle = False\n",
    "\n",
    "ped_red.on()\n",
    "\n",
    "def ped_cross():\n",
    "    global toggle\n",
    "    print(\"Pedestrian Crossing Activated\")\n",
    "    ped_red.off()\n",
    "    ped_green.on()\n",
    "    time.sleep(5)\n",
    "    ped_green.off()\n",
    "    for _ in range(4):\n",
    "        ped_red.on()\n",
    "        time.sleep(0.5)\n",
    "        ped_red.off()\n",
    "        time.sleep(0.5)\n",
    "    ped_red.on()\n",
    "\n",
    "def check_button():\n",
    "    global toggle\n",
    "    if button.value() == 0 and not toggle:\n",
    "        toggle = True\n",
    "        print(\"Pedestrian button pressed!\")\n",
    "        time.sleep(0.2)\n",
    "        \n",
    "\n",
    "while True:\n",
    "    \n",
    "    traffic_green.on()\n",
    "    for _ in range(5):\n",
    "        check_button()\n",
    "        time.sleep(1)\n",
    "    traffic_green.off()\n",
    "\n",
    "    traffic_yellow.on()\n",
    "    for _ in range(1):\n",
    "        check_button()\n",
    "        time.sleep(1)\n",
    "    traffic_yellow.off()\n",
    "\n",
    "    traffic_red.on()\n",
    "    if toggle:\n",
    "        ped_cross()\n",
    "    time.sleep(5)\n",
    "    toggle = False\n",
    "    traffic_red.off()"
   ]
  },
  {
   "cell_type": "markdown",
   "id": "2030af2e",
   "metadata": {},
   "source": [
    "## Task 3: Water Tank Level Indicator System\n",
    "### Scenario\n",
    "Greenfield Municipality requires a visual representation of the water level in its small-scale reservoir tank. You've been asked to create a simplified IoT prototype using LEDs to indicate the current state of the reservoir, simulating both filling (ascending) and draining (descending) sequences.\n",
    "### Operational Description:\n",
    "A sequence of LEDs represents the water level inside the tower. The LEDs will light sequentially from the bottom to the top, indicating the tank is filling, and then in reverse direction, indicating draining. This visual feedback helps technicians and municipality staff quickly assess tank operations and ensure proper functionality.\n",
    "\n",
    "Additionally, each LED activation status (e.g., \"Filling: LED 1 activated\", \"Draining: LED 4 activated\") should be printed to the serial console for remote monitoring.\n",
    "### Hardware Requriment\n",
    " 1. Breadbord\n",
    " 2. Four LED lights (Preferably different colours for clarity)\n",
    " 3. Pi Pico or ESP32\n",
    " 4. Jumper wires \n",
    "\n",
    "#### Key Requirements: \n",
    "To meet the municipality’s coding standards, you must:\n",
    "\n",
    "1.\tWrite a function that controls the ascending/descending LED logic.\n",
    "2.\tInside this function, use at least one for loop to iterate through your list of LEDs in ascending and descending order.\n",
    "\n"
   ]
  },
  {
   "cell_type": "code",
   "execution_count": 28,
   "id": "dc21d88f-e016-4401-a522-986d31c03972",
   "metadata": {},
   "outputs": [
    {
     "name": "stdout",
     "output_type": "stream",
     "text": [
      ".."
     ]
    }
   ],
   "source": [
    "from machine import Pin\n",
    "import time\n",
    "\n",
    "lights = [\n",
    "    Pin(17, Pin.OUT),\n",
    "    Pin(16, Pin.OUT),\n",
    "    Pin(23, Pin.OUT),\n",
    "    Pin(22, Pin.OUT),\n",
    "    Pin(21, Pin.OUT)\n",
    "]\n",
    "\n",
    "for light in lights:\n",
    "    light.off()\n",
    "\n",
    "def lights_on():\n",
    "    for light in lights:\n",
    "        light.on()\n",
    "        time.sleep(1)\n",
    "\n",
    "def lights_off():\n",
    "    for light in reversed(lights):\n",
    "        light.off()\n",
    "        time.sleep(1)\n",
    "\n",
    "lights_on()\n",
    "lights_off()\n",
    "   "
   ]
  },
  {
   "cell_type": "markdown",
   "id": "a697dd10",
   "metadata": {},
   "source": [
    "## Task 4: Multi-Mode LED Display for Community Events\n",
    "### Scenario\n",
    "The Greenfield Heights Recreation Department wants a multi-purpose LED display to be used at various community events—fairs, holiday gatherings, and educational demos. \n",
    "They’ve already seen a basic LED ladder prototype but now request multiple behaviour patterns (modes) that a user can select:\n",
    "\n",
    "1.\tMode A: Basic Fill & Drain – LEDs turn on from bottom to top, then off from top to bottom.\n",
    "2.\tMode B: Reverse – LEDs turn on from bottom to top, then back down.\n",
    "### Hardware Requriment\n",
    " 1. Breadbord\n",
    " 2. LED lights\n",
    " 3. Two Buttons\n",
    " 4. Pi Pico or ESP32     \n",
    " 5. Jumper wires \n"
   ]
  },
  {
   "cell_type": "code",
   "execution_count": 42,
   "id": "f2eec6aa-864d-4d47-b3cc-86a6a8a03db2",
   "metadata": {},
   "outputs": [
    {
     "name": "stdout",
     "output_type": "stream",
     "text": [
      "Mode B: Reverse Fill & Drain\n",
      "..Mode A: Fill & Drain\n",
      "..Mode B: Reverse Fill & Drain\n",
      "....Mode A: Fill & Drain\n",
      "..Mode B: Reverse Fill & Drain\n",
      "..Mode A: Fill & Drain\n",
      "...Mode B: Reverse Fill & Drain\n",
      "..Mode A: Fill & Drain\n",
      ".......Mode B: Reverse Fill & Drain\n",
      "..........Mode A: Fill & Drain\n",
      "...........\u001b[34m\n",
      "\n",
      "*** Sending Ctrl-C\n",
      "\n",
      "\u001b[0m"
     ]
    },
    {
     "name": "stderr",
     "output_type": "stream",
     "text": [
      "Traceback (most recent call last):\n",
      "  File \"<stdin>\", line 40, in <module>\n",
      "KeyboardInterrupt: \n"
     ]
    }
   ],
   "source": [
    "from machine import Pin\n",
    "import time\n",
    "\n",
    "lights = [\n",
    "    Pin(17, Pin.OUT),\n",
    "    Pin(16, Pin.OUT),\n",
    "    Pin(23, Pin.OUT),\n",
    "    Pin(22, Pin.OUT),\n",
    "    Pin(21, Pin.OUT)\n",
    "]\n",
    "\n",
    "button = Pin(5, Pin.IN, Pin.PULL_UP)\n",
    "\n",
    "for light in lights:\n",
    "    light.off()\n",
    "\n",
    "def mode_a():\n",
    "    print(\"Mode A: Fill & Drain\")\n",
    "    for light in lights:\n",
    "        light.on()\n",
    "        time.sleep(1)\n",
    "\n",
    "    for light in reversed(lights):\n",
    "        light.off()\n",
    "        time.sleep(1)\n",
    "\n",
    "def mode_b():\n",
    "    print(\"Mode B: Reverse Fill & Drain\")\n",
    "    for light in lights:\n",
    "        light.on()\n",
    "        time.sleep(1)\n",
    "\n",
    "    for light in lights:\n",
    "        light.off()\n",
    "        time.sleep(1)\n",
    "\n",
    "mode = 0\n",
    "\n",
    "while True:\n",
    "    if button.value() == 0:\n",
    "        mode = not mode\n",
    "        time.sleep(0.2)\n",
    "\n",
    "        if mode == 0:\n",
    "            mode_a()\n",
    "        else:\n",
    "            mode_b()"
   ]
  },
  {
   "cell_type": "markdown",
   "id": "f4290ab0-03a3-40d7-a8d8-012417339836",
   "metadata": {},
   "source": [
    "## Task 5: Data Centre Monitoring and Alert System\n",
    "### Scenario\n",
    "You are responsible for managing a small data centre that requires continuous monitoring. You've implemented a basic IoT-based alert system utilising an ESP32 or Raspberry Pi Pico microcontroller and LEDs. This system provides clear visual and textual indicators of system statuses to allow technicians to quickly identify and respond to scenarios such as emergencies, normal operation, cooling activities, or maintenance requirements.\n",
    "#### LEDs Status Indicators:\n",
    "\n",
    " I. Red LED: Indicates an Emergency Alert (e.g., overheating, critical hardware failure).\n",
    "    \n",
    " II. Green LED: Indicates Normal Operation (systems are running smoothly).\n",
    "    \n",
    " III. Blue LED: Indicates System Cooling (active cooling processes in progress).\n",
    "    \n",
    " IV. Yellow LED: Indicates Maintenance Required (scheduled or proactive maintenance is needed).\n",
    "    \n",
    "Additionally, the system logs these statuses by outputting messages to the JupyterLab console, providing visual and textual status updates.\n",
    "\n",
    "### Hardware Requriment\n",
    " 1. Breadbord\n",
    " 2. LED lights (Red, Green, Blue and Yellow)\n",
    " 3. Button\n",
    " 4. Pi Pico or ESP32\n",
    " 5. Jumper wires \n",
    "\n"
   ]
  },
  {
   "cell_type": "code",
   "execution_count": null,
   "id": "418e4dcc-9da5-402e-bb69-b78d0db23a27",
   "metadata": {},
   "outputs": [
    {
     "name": "stdout",
     "output_type": "stream",
     "text": [
      "🟡 Scheduled maintenance required\n",
      "🟢 All systems running smoothly\n",
      "🔵 Active cooling in process\n",
      "🔴 Overheating, critical hardware failure\n",
      "🟡 Scheduled maintenance required\n",
      "🟢 All systems running smoothly\n",
      "🔵 Active cooling in process\n",
      "🔴 Overheating, critical hardware failure\n",
      "🟡 Scheduled maintenance required\n",
      "🟢 All systems running smoothly\n",
      "🔵 Active cooling in process\n",
      "🔴 Overheating, critical hardware failure\n",
      ".🟡 Scheduled maintenance required\n",
      "🟢 All systems running smoothly\n",
      "🔵 Active cooling in process\n",
      "🔴 Overheating, critical hardware failure\n",
      "🟡 Scheduled maintenance required\n",
      "🟢 All systems running smoothly\n",
      ".🔵 Active cooling in process\n",
      ".🔴 Overheating, critical hardware failure\n",
      "🟡 Scheduled maintenance required\n",
      "🟢 All systems running smoothly\n",
      "..........."
     ]
    }
   ],
   "source": [
    "from machine import Pin\n",
    "import time\n",
    "\n",
    "lights = [\n",
    "(Pin(21, Pin.OUT), \"🔴 Overheating, critical hardware failure\"),\n",
    "(Pin(22, Pin.OUT), \"🟡 Scheduled maintenance required\"),\n",
    "(Pin(23, Pin.OUT), \"🟢 All systems running smoothly\"),\n",
    "(Pin(16, Pin.OUT), \"🔵 Active cooling in process\")\n",
    "]\n",
    "\n",
    "button = Pin(5, Pin.IN, Pin.PULL_UP)\n",
    "current_light = 0\n",
    "\n",
    "for l, _ in lights:\n",
    "    l.off()\n",
    "\n",
    "while True:\n",
    "    if button.value() == 0:\n",
    "        lights[current_light][0].off()\n",
    "\n",
    "        current_light = (current_light + 1) % len(lights)\n",
    "        \n",
    "        light, message = lights[current_light]\n",
    "        light.on()\n",
    "        print(message)\n",
    "\n",
    "        while button.value() == 0:\n",
    "            pass\n",
    "            \n",
    "        time.sleep(0.2)"
   ]
  },
  {
   "cell_type": "code",
   "execution_count": null,
   "id": "f256e481-dd21-486a-aa98-d8a7243209b0",
   "metadata": {},
   "outputs": [],
   "source": []
  }
 ],
 "metadata": {
  "kernelspec": {
   "display_name": "MicroPython - USB",
   "language": "micropython",
   "name": "micropython"
  },
  "language_info": {
   "codemirror_mode": "python",
   "file_extension": ".py",
   "mimetype": "text/python",
   "name": "micropython"
  }
 },
 "nbformat": 4,
 "nbformat_minor": 5
}
