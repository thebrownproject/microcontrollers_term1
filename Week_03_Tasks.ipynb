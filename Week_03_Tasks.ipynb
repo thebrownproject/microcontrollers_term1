{
 "cells": [
  {
   "cell_type": "markdown",
   "id": "1ec61acf-d40c-4979-943d-ab266c5a5588",
   "metadata": {},
   "source": [
    "# Week 2 Tasks"
   ]
  },
  {
   "cell_type": "markdown",
   "id": "74f193a7-a374-403c-8078-c9242d32752a",
   "metadata": {},
   "source": [
    "### Install MicroPython Kernel \n",
    "Install the Juptyer Notebook on your computer, and make sure you have the microPython kernel installed. You can find the instructions on installing the microphone kernel. https://www.instructables.com/Micropython-on-ESP-Using-Jupyter/"
   ]
  },
  {
   "cell_type": "markdown",
   "id": "d15fc572-d946-4637-8a29-46773de516fd",
   "metadata": {},
   "source": [
    "### Configure your serial connection to your microcontroller. Use the following commands to establish a serial connection.\n",
    "#### For Windows\n",
    " %serialconnect to --port=COM3 --baud=115200\n",
    "#### For macOS\n",
    " %serialconnect to --port=/dev/tty.SLAB_USBtoUART --baud=115200"
   ]
  },
  {
   "cell_type": "code",
   "execution_count": 1,
   "id": "94ee8c1c-5a4f-4e73-bc16-213f0ed2a455",
   "metadata": {},
   "outputs": [
    {
     "name": "stdout",
     "output_type": "stream",
     "text": [
      "\u001b[34mConnecting to --port=/dev/tty.usbserial-0001 --baud=115200 \u001b[0mcould not open port /dev/tty.usbserial-0001: [Errno 2] No such file or directory: '/dev/tty.usbserial-0001'\n",
      "\u001b[34m\n",
      "Try one of these ports as --port= \n",
      "  /dev/cu.Bluetooth-Incoming-Port\n",
      "  /dev/cu.Frasersheadphones\n",
      "  /dev/cu.debug-console\u001b[0m"
     ]
    }
   ],
   "source": [
    " %serialconnect to --port=/dev/tty.usbserial-0001 --baud=115200"
   ]
  },
  {
   "cell_type": "markdown",
   "id": "64320e2c-61ca-4263-9055-7faed9b3f8d9",
   "metadata": {},
   "source": [
    "### Task 1"
   ]
  },
  {
   "cell_type": "markdown",
   "id": "300159d7-99f3-40e1-94c7-94f70a171819",
   "metadata": {},
   "source": [
    "Turn on the internal LED of Raspberry Pi Pico or ESP32.\n",
    "GPIO - 1"
   ]
  },
  {
   "cell_type": "code",
   "execution_count": 6,
   "id": "2c132f1b-a949-4a9a-b87f-334d9a8c6ed8",
   "metadata": {},
   "outputs": [],
   "source": [
    "from machine import Pin\n",
    "\n",
    "led = Pin(\"LED\", Pin.OUT)\n",
    "\n",
    "led.value(1)"
   ]
  },
  {
   "cell_type": "markdown",
   "id": "e0db46b9-4c6c-4c71-9daf-197f08324f19",
   "metadata": {},
   "source": [
    "### Task 2\n",
    "Make the internal LED blink at half second intervals"
   ]
  },
  {
   "cell_type": "code",
   "execution_count": 7,
   "id": "6c99508c-8ad2-4855-9e3f-4c024a571aec",
   "metadata": {},
   "outputs": [
    {
     "name": "stdout",
     "output_type": "stream",
     "text": [
      "b'\\xff\\xff\\xff\\xff\\xff\\xff\\xff\\xff\\xff\\xff\\xff\\xff\\xff\\xff\\xff\\xff\\xff\\xff\\xff\\xff\\xff\\xff\\xff\\xff\\xff\\xff\\xff\\xff\\xff\\xff\\xff\\xff\\xff\\xff\\xff\\xff\\xff\\xff\\xff\\xff\\xff\\xff\\xff\\xff\\xff\\xff\\xff\\xff\\xff\\xff\\xff\\xff\\xff\\xff\\xff\\xff\\xff\\xff\\xff\\xff\\xff\\xff\\xff\\xff'..................\u001b[34m\n",
      "\n",
      "*** Sending Ctrl-C\n",
      "\n",
      "\u001b[31m[Timed out waiting for recognizable response]\n",
      "\u001b[0m"
     ]
    }
   ],
   "source": [
    "from machine import Pin\n",
    "import time\n",
    "\n",
    "led = Pin(2, Pin.OUT)\n",
    "\n",
    "count = 0\n",
    "while count < 2:\n",
    "    led.value(1)\n",
    "    time.sleep(1)\n",
    "    led.value(0)\n",
    "    time.sleep(1)\n",
    "    count += 1"
   ]
  },
  {
   "cell_type": "markdown",
   "id": "f15e9d9c-e345-480b-a69f-3b43a2daea09",
   "metadata": {},
   "source": [
    "### Task 3: Turning LED Lights On\n",
    "Use the following hardware and turn on the LED lights\n",
    "#### Hardware Requirements:\n",
    "\n",
    "=> Breadboard\n",
    "\n",
    "=> Led light\n",
    "\n",
    "=> Microcontroller\n",
    "\n",
    "=> Jumper Wire"
   ]
  },
  {
   "cell_type": "code",
   "execution_count": 11,
   "id": "8d64dbcd-b499-479c-b822-c6faedda282f",
   "metadata": {},
   "outputs": [],
   "source": [
    "from machine import Pin\n",
    "\n",
    "light = Pin(16, Pin.OUT)\n",
    "\n",
    "light.value(1)"
   ]
  },
  {
   "cell_type": "markdown",
   "id": "15f3b91b-31a6-4a3c-b8d5-cf2ba5250601",
   "metadata": {},
   "source": [
    "### Task 3: Blinking LED Lights \n",
    "Use the following hardware and turn blink the LED lights\n",
    "#### Hardware Requirements:\n",
    "\n",
    "=> Breadboard\n",
    "\n",
    "=> Led light\n",
    "\n",
    "=> Microcontroller\n",
    "\n",
    "=> Jumper Wire"
   ]
  },
  {
   "cell_type": "code",
   "execution_count": 12,
   "id": "8717c85d-d04f-4884-919a-81db23057963",
   "metadata": {},
   "outputs": [
    {
     "name": "stdout",
     "output_type": "stream",
     "text": [
      "\u001b[34m\n",
      "\n",
      "*** Sending Ctrl-C\n",
      "\n",
      "\u001b[0m"
     ]
    },
    {
     "name": "stderr",
     "output_type": "stream",
     "text": [
      "Traceback (most recent call last):\n",
      "  File \"<stdin>\", line 12, in <module>\n",
      "KeyboardInterrupt: \n"
     ]
    }
   ],
   "source": [
    "from machine import Pin\n",
    "import time\n",
    "\n",
    "blinkLight = Pin(16, Pin.OUT)\n",
    "\n",
    "total = 0\n",
    "\n",
    "while total < 3:\n",
    "    blinkLight.value(1)\n",
    "    time.sleep(.5)\n",
    "    blinkLight.value(0)\n",
    "    time.sleep(.5)\n",
    "    total += 1\n",
    "    "
   ]
  },
  {
   "cell_type": "markdown",
   "id": "2494a2d8-c140-42b5-bc13-6d40c7bb63b0",
   "metadata": {},
   "source": [
    "### Task 4: Turining LED Lights ON When the button is Pressed\n",
    "Use the following hardware and turn blink the LED lights\n",
    "#### Hardware Requirements:\n",
    "\n",
    "=> Breadboard\n",
    "\n",
    "=> Led light\n",
    "\n",
    "=> Microcontroller\n",
    "\n",
    "=> Button\n",
    "\n",
    "=> Jumper Wire"
   ]
  },
  {
   "cell_type": "code",
   "execution_count": 4,
   "id": "d413e93a-e6b4-4d38-a3d1-2ee31221bbcf",
   "metadata": {},
   "outputs": [
    {
     "name": "stdout",
     "output_type": "stream",
     "text": [
      "\u001b[34m\n",
      "\n",
      "*** Sending Ctrl-C\n",
      "\n",
      "\u001b[0m"
     ]
    },
    {
     "name": "stderr",
     "output_type": "stream",
     "text": [
      "Traceback (most recent call last):\n",
      "  File \"<stdin>\", line 15, in <module>\n",
      "KeyboardInterrupt: \n"
     ]
    }
   ],
   "source": [
    "from machine import Pin\n",
    "import time\n",
    "\n",
    "led_light = Pin(16, Pin.OUT)\n",
    "\n",
    "button = Pin(12, Pin.IN, Pin.PULL_UP)\n",
    "\n",
    "while True:\n",
    "    if button.value() == 0:\n",
    "            led_light.on()\n",
    "    else:\n",
    "        led_light.off()\n",
    "\n",
    "    time.sleep(0.1)"
   ]
  },
  {
   "cell_type": "markdown",
   "id": "cce3c3c4-3406-4707-8909-756c0941b728",
   "metadata": {},
   "source": [
    "### Task 5: Controlling LED with Two Buttons\n",
    "Use the following hardware. To turn on and off the LED lights when the button is pressed.\n",
    "#### Hardware Requirements:\n",
    "\n",
    "=> Breadboard\n",
    "\n",
    "=> Led light\n",
    "\n",
    "=> Microcontroller\n",
    "\n",
    "=> Button X 2\n",
    "\n",
    "=> Jumper Wire"
   ]
  },
  {
   "cell_type": "code",
   "execution_count": 7,
   "id": "f0e75954-a039-4dbd-9265-f831ed0a656a",
   "metadata": {},
   "outputs": [
    {
     "name": "stdout",
     "output_type": "stream",
     "text": [
      "[leftinbuffer] [\"b'\\\\xff\\\\xff\\\\xff\\\\xff\\\\xff\\\\xff\\\\xff\\\\xff\\\\xff\\\\xff\\\\xff\\\\xff\\\\xff\\\\xff\\\\xff\\\\xff\\\\xff\\\\xff\\\\xff\\\\xff\\\\xff\\\\xff\\\\xff\\\\xff\\\\xff\\\\xff\\\\xff\\\\xff\\\\xff\\\\xff\\\\xff\\\\xff\\\\xff\\\\xff\\\\xff\\\\xff\\\\xff\\\\xff\\\\xff\\\\xff\\\\xff\\\\xff\\\\xff\\\\xff\\\\xff\\\\xff\\\\xff\\\\xff\\\\xff\\\\xff\\\\xff\\\\xff\\\\xff\\\\xff\\\\xff\\\\xff\\\\xff\\\\xff\\\\xff\\\\xff\\\\xff\\\\xff\\\\xff\\\\xff'\"]\n",
      "\u001b[34m\n",
      "\n",
      "*** Sending Ctrl-C\n",
      "\n",
      "\u001b[0m"
     ]
    },
    {
     "name": "stderr",
     "output_type": "stream",
     "text": [
      "Traceback (most recent call last):\n",
      "  File \"<stdin>\", line 20, in <module>\n",
      "KeyboardInterrupt: \n"
     ]
    }
   ],
   "source": [
    "from machine import Pin\n",
    "import time\n",
    "\n",
    "led = Pin(16, Pin.OUT)\n",
    "button1 = Pin(12, Pin.IN, Pin.PULL_UP)\n",
    "button2 = Pin(13, Pin.IN, Pin.PULL_UP)\n",
    "\n",
    "toggle = True\n",
    "\n",
    "while True:\n",
    "# If button 1 clicked, turn light on. Keep button value at 1\n",
    "    if button1.value() == 0:\n",
    "        toggle = True\n",
    "# If button 2 clicked, turn light off. Keep button value 0\n",
    "    elif button2.value() == 0:\n",
    "        toggle = False\n",
    "\n",
    "    led.value(toggle)\n",
    "    \n",
    "    time.sleep(0.1)"
   ]
  },
  {
   "cell_type": "markdown",
   "id": "270ddabf-f251-4a95-9097-3578cd1f6abe",
   "metadata": {},
   "source": [
    "### Task 6: Toggle LED with a Button \n",
    "Use the following hardware. To turn on and off the LED lights when the button is pressed.\n",
    "#### Hardware Requirements:\n",
    "\n",
    "=> Breadboard\n",
    "\n",
    "=> Led light\n",
    "\n",
    "=> Microcontroller\n",
    "\n",
    "=> Button \n",
    "\n",
    "=> Jumper Wire"
   ]
  },
  {
   "cell_type": "code",
   "execution_count": 13,
   "id": "e2332423-9f58-41a5-8e1c-a92d0608e128",
   "metadata": {},
   "outputs": [
    {
     "name": "stdout",
     "output_type": "stream",
     "text": [
      "[leftinbuffer] [\"b'\\\\xff\\\\xff\\\\xff\\\\xff\\\\xff\\\\xff\\\\xff\\\\xff\\\\xff\\\\xff\\\\xff\\\\xff\\\\xff\\\\xff\\\\xff\\\\xff\\\\xff\\\\xff\\\\xff\\\\xff\\\\xff\\\\xff\\\\xff\\\\xff\\\\xff\\\\xff\\\\xff\\\\xff\\\\xff\\\\xff\\\\xff\\\\xff\\\\xff\\\\xff\\\\xff\\\\xff\\\\xff\\\\xff\\\\xff\\\\xff\\\\xff\\\\xff\\\\xff\\\\xff\\\\xff\\\\xff\\\\xff\\\\xff\\\\xff\\\\xff\\\\xff\\\\xff\\\\xff\\\\xff\\\\xff\\\\xff\\\\xff\\\\xff\\\\xff\\\\xff\\\\xff\\\\xff\\\\xff\\\\xff'\"]\n",
      ".......................................................................................................................................\n",
      "[missing-OK]\n",
      "**[ys] \n",
      "<class 'serial.serialutil.SerialException'>\n",
      "[missing-OK]\n",
      "**[ys] \n",
      "read failed: [Errno 6] Device not configured\n",
      "\n",
      "\n",
      "[missing-OK]\n",
      "**[ys] \n",
      "<class 'serial.serialutil.SerialException'>\n",
      "[missing-OK]\n",
      "**[ys] \n",
      "read failed: [Errno 6] Device not configured\n",
      "\n"
     ]
    }
   ],
   "source": [
    "from machine import Pin\n",
    "import time\n",
    "\n",
    "led = Pin(16, Pin.OUT)\n",
    "button1 = Pin(12, Pin.IN, Pin.PULL_UP)\n",
    "\n",
    "toggle = False\n",
    "\n",
    "while True:\n",
    "# If button 1 clicked, turn light on. Keep button value at 1\n",
    "    if button1.value() == 0:\n",
    "        toggle = not toggle\n",
    "        light.value(toggle)\n",
    "        time.sleep(0.3)"
   ]
  }
 ],
 "metadata": {
  "kernelspec": {
   "display_name": "MicroPython - USB",
   "language": "micropython",
   "name": "micropython"
  },
  "language_info": {
   "codemirror_mode": "python",
   "file_extension": ".py",
   "mimetype": "text/python",
   "name": "micropython"
  }
 },
 "nbformat": 4,
 "nbformat_minor": 5
}
