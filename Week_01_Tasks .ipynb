{
 "cells": [
  {
   "cell_type": "markdown",
   "id": "9fbf2919",
   "metadata": {},
   "source": [
    "### Run the below before anything else"
   ]
  },
  {
   "cell_type": "code",
   "execution_count": 1,
   "id": "dc4a1a14",
   "metadata": {},
   "outputs": [],
   "source": [
    "from colorama import init as colorama_init\n",
    "from colorama import Fore\n",
    "from colorama import Style\n",
    "\n",
    "def test_function(name, test_data, function_ref):\n",
    "    try:\n",
    "        count = 0\n",
    "\n",
    "        for test_case in test_data:\n",
    "            if len(test_case) == 2:\n",
    "                result = function_ref(test_case[0])\n",
    "            elif len(test_case) == 3:\n",
    "                result = function_ref(test_case[0], test_case[1])\n",
    "            elif len(test_case) == 4:\n",
    "                result = function_ref(test_case[0], test_case[1], test_case[2])\n",
    "\n",
    "            error_message = f\"{name}(\"\n",
    "            for i in range(len(test_case) - 2):\n",
    "                error_message += f\"{test_case[i]}, \"\n",
    "            error_message += f\"{test_case[-2]}) should be {test_case[-1]}, got: {result}\"\n",
    "\n",
    "            assert result == test_case[-1], error_message\n",
    "            count += 1\n",
    "\n",
    "        print(f\"{Fore.GREEN}---------- ALL TESTS PASSED ----------{Style.RESET_ALL}\")\n",
    "    except AssertionError as e:\n",
    "        print(f\"{Fore.RED}---------- ALL TESTS NOT PASSED ----------{Style.RESET_ALL}\")\n",
    "        print(f\"{Fore.RED}{count} of {len(test_data)} tests passed{Style.RESET_ALL}\")\n",
    "        print(f\"{Fore.RED}failed at:\")\n",
    "        print(e)"
   ]
  },
  {
   "cell_type": "markdown",
   "id": "028f72cc-c041-4331-b223-acef7039e754",
   "metadata": {},
   "source": [
    "# Week 1 Tasks - Revision\n",
    "This week is a revision week.  Complete the exercises below\n",
    "Run all tasks in Jupyter before starting\n",
    "\n",
    "You can test the completion of your tasks by running the cell"
   ]
  },
  {
   "cell_type": "markdown",
   "id": "2b2cd22a-a110-4a54-8e34-d30504d7f3d9",
   "metadata": {},
   "source": [
    "## Task 1:\n",
    "Complete the functions below."
   ]
  },
  {
   "cell_type": "code",
   "execution_count": 6,
   "id": "05cb0a12-6ced-4280-b1d4-968e32ba82f1",
   "metadata": {
    "scrolled": true
   },
   "outputs": [
    {
     "name": "stdout",
     "output_type": "stream",
     "text": [
      "\u001b[32m---------- ALL TESTS PASSED ----------\u001b[0m\n"
     ]
    }
   ],
   "source": [
    "# adds two numbers and returns the result as a  number\n",
    "def add_two_nums(a, b):\n",
    "    return a + b\n",
    "\n",
    "# -------- Test cases --------\n",
    "test_cases = [[1, 2, 3], [-1, 1, 0], [0, 0, 0], [100, 200, 300], [-1000, -2000, -3000]]\n",
    "test_function(\"add_two_nums\", test_cases, add_two_nums)\n"
   ]
  },
  {
   "cell_type": "code",
   "execution_count": 7,
   "id": "7ab2d575",
   "metadata": {},
   "outputs": [
    {
     "name": "stdout",
     "output_type": "stream",
     "text": [
      "\u001b[32m---------- ALL TESTS PASSED ----------\u001b[0m\n"
     ]
    }
   ],
   "source": [
    "# returns the square of a number.  \n",
    "# note: zero squared is equal to 1\n",
    "def power_of_two(a):\n",
    "    if a == 0:\n",
    "       return 1\n",
    "    else:\n",
    "        return a * a\n",
    "\n",
    "# -------- Test cases --------\n",
    "test_cases = [[1, 1], [2, 4], [3, 9], [4, 16], [5, 25], [0 , 1]]\n",
    "test_function(\"power_of_two\", test_cases, power_of_two)"
   ]
  },
  {
   "cell_type": "code",
   "execution_count": 8,
   "id": "1b7899cc",
   "metadata": {},
   "outputs": [
    {
     "name": "stdout",
     "output_type": "stream",
     "text": [
      "\u001b[32m---------- ALL TESTS PASSED ----------\u001b[0m\n"
     ]
    }
   ],
   "source": [
    "# returns the result of x to the power of y, must use a loop of recursion.\n",
    "# note: any number to the power of 0 is equal to 1\n",
    "def power(x, y):\n",
    "        return x ** y\n",
    "\n",
    "# -------- Test cases --------\n",
    "test_cases = [[2, 0, 1], [2, 1, 2], [2, 2, 4], [2, 3, 8], [3, 2, 9]]\n",
    "test_function(\"power\", test_cases, power)\n"
   ]
  },
  {
   "cell_type": "code",
   "execution_count": 9,
   "id": "f7b2f218",
   "metadata": {},
   "outputs": [
    {
     "name": "stdout",
     "output_type": "stream",
     "text": [
      "\u001b[32m---------- ALL TESTS PASSED ----------\u001b[0m\n"
     ]
    }
   ],
   "source": [
    "# returns the factorial of a number, must use a loop or recursion.  n must be a positive integer.\n",
    "# if n is less than 0, return -1\n",
    "# factorial of 0 is 1\n",
    "\n",
    "def factorial(n):\n",
    "    if n == 0 or n == 1:\n",
    "        return 1\n",
    "    elif n < 0:\n",
    "        return -1\n",
    "    else:\n",
    "        return n * factorial(n - 1)\n",
    "\n",
    "# -------- Test cases --------\n",
    "test_cases = [[0, 1], [1, 1], [2, 2], [3, 6], [4, 24], [5, 120], [-1, -1]]\n",
    "test_function(\"factorial\", test_cases, factorial)"
   ]
  },
  {
   "cell_type": "code",
   "execution_count": 19,
   "id": "23172e34",
   "metadata": {},
   "outputs": [
    {
     "name": "stdout",
     "output_type": "stream",
     "text": [
      "\u001b[32m---------- ALL TESTS PASSED ----------\u001b[0m\n"
     ]
    }
   ],
   "source": [
    "# returns the sum of all numbers in an array.  Must use a loop or recursion.\n",
    "# if the array is empty, return \"error\"\n",
    "def add_nums_array(arr):\n",
    "    total = 0\n",
    "    if len(arr) > 0:\n",
    "        for x in arr:\n",
    "            total += x\n",
    "        return total\n",
    "    else:\n",
    "        return \"error\"\n",
    "\n",
    "# -------- Test cases --------\n",
    "test_cases = [[[1, 2, 3], 6], [[-1, 1], 0], [[0, 0, 0], 0], [[100, 200, -300], 0], [[-1, -2, -3], -6], [[], \"error\"]]\n",
    "test_function(\"add_nums_array\", test_cases, add_nums_array)\n"
   ]
  },
  {
   "cell_type": "code",
   "execution_count": 16,
   "id": "b6f04ade",
   "metadata": {},
   "outputs": [
    {
     "name": "stdout",
     "output_type": "stream",
     "text": [
      "\u001b[32m---------- ALL TESTS PASSED ----------\u001b[0m\n"
     ]
    }
   ],
   "source": [
    "# returns the first element of an array. Must use a loop or recursion.\n",
    "# return None if empty\n",
    "def first_element(arr):\n",
    "    if len(arr) > 0:\n",
    "        return arr[0]\n",
    "    else:\n",
    "        return None\n",
    "\n",
    "# -------- Test cases --------\n",
    "test_cases = [[[1, 2, 3], 1], [[-1, 1], -1], [[0, 0, 0], 0], [[100, 200, -300], 100], [[-1, -2, -3], -1], [[], None]]\n",
    "test_function(\"first_element\", test_cases, first_element)\n"
   ]
  },
  {
   "cell_type": "code",
   "execution_count": 22,
   "id": "a2ee2e68",
   "metadata": {},
   "outputs": [
    {
     "name": "stdout",
     "output_type": "stream",
     "text": [
      "\u001b[32m---------- ALL TESTS PASSED ----------\u001b[0m\n"
     ]
    }
   ],
   "source": [
    "# returns the last element of an array.  Must use a loop or recursion.\n",
    "# return None if empty\n",
    "def last_element(arr):\n",
    "    if len(arr) > 0:\n",
    "        return arr[-1]\n",
    "    else:\n",
    "        return None\n",
    "\n",
    "# -------- Test cases --------\n",
    "test_cases = [[[1, 2, 3], 3], [[-1, 1], 1], [[0, 0, 0], 0], [[100, 200, -300], -300], [[-1, -2, -3], -3], [[], None]]\n",
    "test_function(\"last_element\", test_cases, last_element)\n"
   ]
  },
  {
   "cell_type": "code",
   "execution_count": 34,
   "id": "f4a6fa70",
   "metadata": {},
   "outputs": [
    {
     "name": "stdout",
     "output_type": "stream",
     "text": [
      "\u001b[32m---------- ALL TESTS PASSED ----------\u001b[0m\n"
     ]
    }
   ],
   "source": [
    "# returns the number of elements in an array.  Must use a loop or recursion.\n",
    "def num_elements(arr):\n",
    "    total = 0\n",
    "    for x in arr:\n",
    "        total += 1\n",
    "    return total\n",
    "        \n",
    "\n",
    "    # if using built-in function: return len(arr)\n",
    "\n",
    "# -------- Test cases --------\n",
    "test_cases = [[[1, 2, 3], 3], [[-1, 1], 2], [[0, 0, 0], 3], [[100, 200, -300], 3], [[-1, -2, -3], 3], [[], 0]]\n",
    "test_function(\"num_elements\", test_cases, num_elements)\n"
   ]
  },
  {
   "cell_type": "code",
   "execution_count": 24,
   "id": "f5e8b572",
   "metadata": {},
   "outputs": [
    {
     "name": "stdout",
     "output_type": "stream",
     "text": [
      "\u001b[32m---------- ALL TESTS PASSED ----------\u001b[0m\n"
     ]
    }
   ],
   "source": [
    "# returns two strings concatenated together.\n",
    "def concat_strings(str1, str2):\n",
    "    return str1 + str2\n",
    "\n",
    "# -------- Test cases --------\n",
    "test_cases = [[\"hello\", \"world\", \"helloworld\"], [\"\", \"\", \"\"], [\"hello\", \"\", \"hello\"], [\"\", \"world\", \"world\"]]\n",
    "test_function(\"concat_strings\", test_cases, concat_strings)\n"
   ]
  },
  {
   "cell_type": "code",
   "execution_count": 33,
   "id": "8ae196ae",
   "metadata": {},
   "outputs": [
    {
     "name": "stdout",
     "output_type": "stream",
     "text": [
      "\u001b[32m---------- ALL TESTS PASSED ----------\u001b[0m\n"
     ]
    }
   ],
   "source": [
    "# returns the number of characters in a string.  Must use a loop or recursion.\n",
    "def num_chars(str1):\n",
    "    total = 0\n",
    "    for x in str1:\n",
    "        total += 1\n",
    "    return total\n",
    "    \n",
    "    # if using built-in functionL: return len(str1)\n",
    "\n",
    "# -------- Test cases --------\n",
    "test_cases = [[\"hello\", 5], [\"\", 0], [\"a\", 1], [\"hello world\", 11]]\n",
    "test_function(\"num_chars\", test_cases, num_chars)\n"
   ]
  },
  {
   "cell_type": "code",
   "execution_count": 28,
   "id": "81931c46",
   "metadata": {},
   "outputs": [
    {
     "name": "stdout",
     "output_type": "stream",
     "text": [
      "\u001b[32m---------- ALL TESTS PASSED ----------\u001b[0m\n"
     ]
    }
   ],
   "source": [
    "# returns string with the first letter capitalized.\n",
    "def capitalize_first_letter(str1):\n",
    "    return str1.capitalize()\n",
    "\n",
    "# -------- Test cases --------\n",
    "test_cases = [[\"hello\", \"Hello\"], [\"\", \"\"], [\"a\", \"A\"], [\"hello world\", \"Hello world\"]]\n",
    "test_function(\"capitalize_first_letter\", test_cases, capitalize_first_letter)"
   ]
  },
  {
   "cell_type": "code",
   "execution_count": 30,
   "id": "33a366a9",
   "metadata": {},
   "outputs": [
    {
     "name": "stdout",
     "output_type": "stream",
     "text": [
      "\u001b[32m---------- ALL TESTS PASSED ----------\u001b[0m\n"
     ]
    }
   ],
   "source": [
    "# returns a decimal to the nearest whole number.\n",
    "def round_decimal(num):\n",
    "    return round(num)\n",
    "\n",
    "# -------- Test cases --------\n",
    "test_cases = [[1.2, 1], [1.5, 2], [2.7, 3], [3.5, 4]]\n",
    "test_function(\"round_decimal\", test_cases, round_decimal)"
   ]
  },
  {
   "cell_type": "markdown",
   "id": "edb9d286",
   "metadata": {},
   "source": [
    "# Bonus Tasks:  Stretch yourself a little and have a go at the below"
   ]
  },
  {
   "cell_type": "code",
   "execution_count": 37,
   "id": "e8d72ff4",
   "metadata": {},
   "outputs": [
    {
     "name": "stdout",
     "output_type": "stream",
     "text": [
      "\u001b[32m---------- ALL TESTS PASSED ----------\u001b[0m\n"
     ]
    }
   ],
   "source": [
    "# returns the sum of all even numbers in an array.  Must use a loop or recursion.\n",
    "def add_even_nums(arr):\n",
    "    total = 0\n",
    "    for x in arr:\n",
    "        if x % 2 == 0:\n",
    "            total += x\n",
    "    return total  \n",
    "\n",
    "# -------- Test cases --------\n",
    "test_cases = [[[1, 2, 3, 4], 6], [[-1, -2, -3, -4], -6], [[0, 0, 0], 0], [[], 0]]\n",
    "test_function(\"add_even_nums\", test_cases, add_even_nums)\n"
   ]
  },
  {
   "cell_type": "code",
   "execution_count": 39,
   "id": "4d228dfd",
   "metadata": {},
   "outputs": [
    {
     "name": "stdout",
     "output_type": "stream",
     "text": [
      "\u001b[32m---------- ALL TESTS PASSED ----------\u001b[0m\n"
     ]
    }
   ],
   "source": [
    "# returns the sum of all odd numbers in an array.  Must use a loop or recursion.\n",
    "def add_odd_nums(arr):\n",
    "    total = 0\n",
    "    for x in arr:\n",
    "        if x % 2 != 0:\n",
    "            total += x\n",
    "    return total\n",
    "\n",
    "# -------- Test cases --------\n",
    "test_cases = [[[1, 2, 3, 4], 4], [[-1, -2, -3, -4], -4], [[0, 0, 0], 0], [[], 0]]\n",
    "test_function(\"add_odd_nums\", test_cases, add_odd_nums)\n"
   ]
  },
  {
   "cell_type": "code",
   "execution_count": 47,
   "id": "c0085a55",
   "metadata": {},
   "outputs": [
    {
     "name": "stdout",
     "output_type": "stream",
     "text": [
      "\u001b[32m---------- ALL TESTS PASSED ----------\u001b[0m\n"
     ]
    }
   ],
   "source": [
    "# returns the string in reverse.  Must use a loop or recursion.\n",
    "def reverse_string(str1):\n",
    "    rev_string = \"\"\n",
    "    for char in str1:\n",
    "        rev_string = char + rev_string\n",
    "    return rev_string\n",
    "        \n",
    "\n",
    "# -------- Test cases --------\n",
    "test_cases = [[\"hello\", \"olleh\"], [\"\", \"\"], [\"a\", \"a\"], [\"hello world\", \"dlrow olleh\"]]\n",
    "test_function(\"reverse_string\", test_cases, reverse_string)\n"
   ]
  },
  {
   "cell_type": "code",
   "execution_count": 51,
   "id": "1c92f2ca",
   "metadata": {},
   "outputs": [
    {
     "name": "stdout",
     "output_type": "stream",
     "text": [
      "\u001b[32m---------- ALL TESTS PASSED ----------\u001b[0m\n"
     ]
    }
   ],
   "source": [
    "# returns whether string is a palindrome.  Must use a loop or recursion.\n",
    "# a palindrome is a word that is the same forwards and backwards.\n",
    "def is_palindrome(str1):\n",
    "    for i in range(len(str1) // 2):\n",
    "        if str1[i] != str1[-(i + 1)]:\n",
    "            return False\n",
    "    return True\n",
    "    \n",
    "\n",
    "# -------- Test cases --------\n",
    "test_cases = [[\"racecar\", True], [\"hello\", False], [\"\", True], [\"a\", True], [\"bakeryyrekab\", True], [\"hello world\", False]]\n",
    "test_function(\"is_palindrome\", test_cases, is_palindrome)\n"
   ]
  },
  {
   "cell_type": "code",
   "execution_count": null,
   "id": "5cc1a4ea-54e3-4536-8dc7-aa12e680d055",
   "metadata": {},
   "outputs": [],
   "source": []
  }
 ],
 "metadata": {
  "kernelspec": {
   "display_name": "Python 3",
   "language": "python",
   "name": "python3"
  },
  "language_info": {
   "codemirror_mode": {
    "name": "ipython",
    "version": 3
   },
   "file_extension": ".py",
   "mimetype": "text/x-python",
   "name": "python",
   "nbconvert_exporter": "python",
   "pygments_lexer": "ipython3",
   "version": "3.9.6"
  }
 },
 "nbformat": 4,
 "nbformat_minor": 5
}
